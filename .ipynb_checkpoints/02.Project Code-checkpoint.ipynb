{
 "cells": [
  {
   "cell_type": "markdown",
   "metadata": {},
   "source": [
    "# Imports"
   ]
  },
  {
   "cell_type": "code",
   "execution_count": 1,
   "metadata": {
    "collapsed": true
   },
   "outputs": [],
   "source": [
    "#imports go here\n",
    "\n",
    "import numpy as np\n",
    "import random\n",
    "import math\n",
    "import time\n",
    "%matplotlib inline\n",
    "import matplotlib.pyplot as plt\n",
    "import copy"
   ]
  },
  {
   "cell_type": "markdown",
   "metadata": {},
   "source": [
    "#Initial System of Environments Function"
   ]
  },
  {
   "cell_type": "code",
   "execution_count": 2,
   "metadata": {
    "collapsed": true
   },
   "outputs": [],
   "source": [
    "# this creates a system of environments with individuals randomly distributed throughtout the system\n",
    "# M = number of environments\n",
    "# N = number of individuals\n",
    "# PPR = prey/predator ratio\n",
    "\n",
    "def Initial_System(M, N, PPR):\n",
    "    \n",
    "    N = float(N)\n",
    "    PPR = float(PPR)\n",
    "     \n",
    "    # empty array, each row is an environment, left column is prey, right column is predators\n",
    "    environ = np.zeros((M, 2))\n",
    "    \n",
    "    # uses PPR to determine numbers of prey/predators\n",
    "    population_prey = round((N / (PPR + 1)) * (PPR))\n",
    "    population_predator = N - population_prey\n",
    "    \n",
    "    # tests to see if true PPR is close to PPR entered in argument\n",
    "    True_PPR = population_prey / population_predator\n",
    "    \n",
    "    population_prey = int(population_prey)\n",
    "    population_predator = int(population_predator)\n",
    "    \n",
    "    population_prey_left = population_prey\n",
    "    population_predator_left = population_predator\n",
    "    \n",
    "    # randomly assigns an environment to each individual\n",
    "    for i in range(1, population_prey_left + 1):\n",
    "        a = random.randint(0, M - 1)\n",
    "        environ[a][0] += 1.0\n",
    "        population_prey_left -= 1.0\n",
    "    for j in range(1, population_predator_left + 1):\n",
    "        b = random.randint(0, M - 1)\n",
    "        environ[b][1] += 1.0\n",
    "        population_predator_left -= 1.0\n",
    "    \n",
    "    # returns initial system of environments, plus to true PPR for assert testing\n",
    "    return environ, True_PPR"
   ]
  },
  {
   "cell_type": "code",
   "execution_count": 3,
   "metadata": {
    "collapsed": true
   },
   "outputs": [],
   "source": [
    "# assert tests check to make sure true PPR is close to PPR entered in argument\n",
    "\n",
    "assert abs(Initial_System(10, 100, 5)[1] - 5) <= 1\n",
    "assert abs(Initial_System(10, 10000, 5)[1] - 5) <= 1\n",
    "assert abs(Initial_System(10, 100, 10)[1] - 10) <= 1"
   ]
  },
  {
   "cell_type": "markdown",
   "metadata": {},
   "source": [
    "#Utility Function"
   ]
  },
  {
   "cell_type": "code",
   "execution_count": 4,
   "metadata": {
    "collapsed": true
   },
   "outputs": [],
   "source": [
    "# this calculates the total utility of the system\n",
    "# takes initial system of environments, M, and N as arguments\n",
    "# A + B + C = total amount of utility possible\n",
    "# the values of A, B, and C relative to each other determine how much utility can be gained from each aspect of an environment\n",
    "\n",
    "def Utility(initial_system, M, N, A, B, C):\n",
    "    \n",
    "    # empty array, each row corresponds to the utility of that environment\n",
    "    utility = np.zeros((M, 1))\n",
    "    utility_list = []\n",
    "    \n",
    "    # array to store population of each environment\n",
    "    population = np.zeros((M, 1))\n",
    "    \n",
    "    # array to store PPR of each environment\n",
    "    PPR_eff = np.zeros((M, 1))\n",
    "    \n",
    "    # keeps track of total utility of a system\n",
    "    total_utility = 0.0\n",
    "    \n",
    "    M_new = float(M)\n",
    "    N = float(N)\n",
    "    \n",
    "    # iterates through each environment and calculates utility\n",
    "    for j in range(0, M):\n",
    "        population[j] = initial_system[j][0] + initial_system[j][1]\n",
    "        if initial_system[j][1] == 0:\n",
    "            PPR_eff[j] = 10000\n",
    "        else:\n",
    "            PPR_eff[j] = initial_system[j][0] / initial_system[j][1]\n",
    "        U_1 = (A - A * (population[j] / N))\n",
    "        U_2 = (B * (2.0 * np.arctan(PPR_eff[j] / 5) / np.pi))\n",
    "        U_3 = (C - C * ((float(j) + 1) / M_new))\n",
    "        utility[j] = U_1 + U_2 + U_3\n",
    "        total_utility += utility[j][0] * population[j][0]\n",
    "        utility_list.append(utility[j][0])\n",
    "        \n",
    "    # determines average utility per individual in the system\n",
    "    avg_utility = total_utility / N\n",
    "    \n",
    "    # returns utility array, total utility, average utility, and a list form of the utility array\n",
    "    return utility, total_utility, avg_utility, utility_list"
   ]
  },
  {
   "cell_type": "markdown",
   "metadata": {},
   "source": [
    "#Rearrange Function"
   ]
  },
  {
   "cell_type": "code",
   "execution_count": 5,
   "metadata": {
    "collapsed": true
   },
   "outputs": [],
   "source": [
    "# rearranges the initial system until utility is maximized\n",
    "# takes some system of environments, M, N, A, B, C as arguments\n",
    "\n",
    "def Rearrange(some_system_i, M, N, A, B, C):\n",
    "    \n",
    "    # stores value of the change in utility\n",
    "    # if Delta_U is negative, utility has been maximized\n",
    "    Delta_U = 0\n",
    "    \n",
    "    # stores number of movements\n",
    "    Movements = 0\n",
    "    \n",
    "    Delta_U_list = []\n",
    "    \n",
    "    Total_U_list = []\n",
    "    \n",
    "    stop = False\n",
    "    \n",
    "    # uses a while loop\n",
    "    while stop != True:\n",
    "        \n",
    "        # finds the index of environment with most utility\n",
    "        some_utility_list_i = Utility(some_system_i, M, N, A, B, C)[3]\n",
    "        some_utility_arr_i = np.array(some_utility_list_i)\n",
    "        index_max = np.where(some_utility_arr_i == some_utility_arr_i.max())[0][0]\n",
    "        Found_Min = False\n",
    "        End = False\n",
    "        \n",
    "        # this while loop finds index of environment with least utility\n",
    "        while Found_Min != True:\n",
    "            item = min(some_utility_list_i)\n",
    "            index_min = np.where(some_utility_arr_i == item)[0][0]\n",
    "            if len(some_utility_list_i) == 1:\n",
    "                End = True\n",
    "                break\n",
    "            elif some_system_i[index_min][0] == 0.0 and some_system_i[index_min][1] == 0.0:\n",
    "                some_utility_list_i.remove(item)\n",
    "            else:\n",
    "                Found_Min = True\n",
    "        \n",
    "        # calculates initial utility\n",
    "        Total_Utility_i = round(Utility(some_system_i, M, N, A, B, C)[1], 2)\n",
    "        rand_num = random.randint(0, 1)\n",
    "        rand_num_opp = abs(rand_num - 1)\n",
    "        \n",
    "        if End == True:\n",
    "            break\n",
    "        \n",
    "        # takes an individual from least satisfied environment, puts them in most satisfied environment\n",
    "        # randomly chooses to take a prey or predator\n",
    "        elif some_system_i[index_min][rand_num] > 0:\n",
    "            some_system_i[index_min][rand_num] -= 1.0\n",
    "            some_system_i[index_max][rand_num] += 1.0\n",
    "        else:\n",
    "            some_system_i[index_min][rand_num_opp] -= 1.0\n",
    "            some_system_i[index_max][rand_num_opp] += 1.0\n",
    "        \n",
    "        Movements += 1\n",
    "        \n",
    "        # calculates final utility\n",
    "        Total_Utility_f = round(Utility(some_system_i, M, N, A, B, C)[1], 2)\n",
    "        \n",
    "        # calculates change in utility\n",
    "        Delta_U = Total_Utility_f - Total_Utility_i\n",
    "        \n",
    "        Delta_U_list.append(Delta_U)\n",
    "        \n",
    "        Total_U_list.append(Total_Utility_f)\n",
    "        \n",
    "        # when Delta_U is negative, the loop breaks\n",
    "        if Delta_U < 0:\n",
    "            break\n",
    "    \n",
    "    some_system_f = np.array(some_system_i, dtype = 'int')\n",
    "    \n",
    "    # returns the system in it's final form\n",
    "    return some_system_f, Movements"
   ]
  },
  {
   "cell_type": "markdown",
   "metadata": {},
   "source": [
    "#Find Equilibrium Function"
   ]
  },
  {
   "cell_type": "code",
   "execution_count": 6,
   "metadata": {
    "collapsed": true
   },
   "outputs": [],
   "source": [
    "# this function just brings together all the previous functions for convenience\n",
    "\n",
    "def Find_Equilibrium(system_i, M, N, A, B, C):\n",
    "    Data = Rearrange(system_i, M, N, A, B, C)\n",
    "    system_f = Data[0]\n",
    "    N_Movements = Data[1]\n",
    "    return system_f, N_Movements"
   ]
  },
  {
   "cell_type": "markdown",
   "metadata": {},
   "source": [
    "#Demonstration/Visualization"
   ]
  },
  {
   "cell_type": "code",
   "execution_count": 7,
   "metadata": {
    "collapsed": false
   },
   "outputs": [
    {
     "name": "stdout",
     "output_type": "stream",
     "text": [
      "Number of Movements = 7924\n"
     ]
    },
    {
     "data": {
      "image/png": "[encoded data removed]",
      "text/plain": [
       "<matplotlib.figure.Figure at 0x7fb1f1d603d0>"
      ]
     },
     "metadata": {},
     "output_type": "display_data"
    }
   ],
   "source": [
    "# NOTE: due to an unresolved bug, setting the value of A to be much higher than the values of B and C combined raises errors!!!\n",
    "\n",
    "M = 5       # Enter the number of environment\n",
    "N = 10000    # Enter the number of individuals\n",
    "PPR = 3     # Enter the prey/predator ratio\n",
    "A = 0.0     # A + B + C = 10.0\n",
    "B = 0.0\n",
    "C = 10.0\n",
    "\n",
    "Test_System_i = Initial_System(M, N, PPR)[0]\n",
    "Test_System_i_clone = copy.deepcopy(Test_System_i)\n",
    "\n",
    "Data_Set = Find_Equilibrium(Test_System_i, M, N, A, B, C)\n",
    "Test_System_f = Data_Set[0]\n",
    "Number_of_Movements = Data_Set[1]\n",
    "\n",
    "Prey_i = Test_System_i_clone[:, 0]\n",
    "Predator_i = Test_System_i_clone[:, 1]\n",
    "\n",
    "Prey_f = Test_System_f[:, 0]\n",
    "Predator_f = Test_System_f[:, 1]\n",
    "\n",
    "width = 0.25\n",
    "\n",
    "x_prey = np.linspace(1, M, M)\n",
    "x_predator = np.linspace(1, M, M)\n",
    "for i in range(0, M):\n",
    "    x_prey[i] -= width\n",
    "\n",
    "plt.figure(figsize=(15, 4))\n",
    "\n",
    "plt.subplot(1, 2, 1)\n",
    "plt.bar(x_prey, Prey_i, width, color = 'blue', label = 'Prey')\n",
    "plt.bar(x_predator, Predator_i, width, color = 'red', label = 'Predator')\n",
    "\n",
    "plt.subplot(1, 2, 2)\n",
    "plt.bar(x_prey, Prey_f, width, color = 'blue', label = 'Prey')\n",
    "plt.bar(x_predator, Predator_f, width, color = 'red', label = 'Predator')\n",
    "plt.legend()\n",
    "\n",
    "print (\"Number of Movements = %s\") % (Number_of_Movements)"
   ]
  }
 ],
 "metadata": {
  "kernelspec": {
   "display_name": "Python 2",
   "language": "python",
   "name": "python2"
  },
  "language_info": {
   "codemirror_mode": {
    "name": "ipython",
    "version": 2
   },
   "file_extension": ".py",
   "mimetype": "text/x-python",
   "name": "python",
   "nbconvert_exporter": "python",
   "pygments_lexer": "ipython2",
   "version": "2.7.6"
  }
 },
 "nbformat": 4,
 "nbformat_minor": 0
}
