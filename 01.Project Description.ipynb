{
 "cells": [
  {
   "cell_type": "markdown",
   "metadata": {},
   "source": [
    "# Abstract\n",
    "\n",
    "The goal of this project is to model the movement of 2 types of individuals: prey and predators. My code will create a series of environments with varying amounts of prey and predators in each environment. Then, based on 3 characteristics of the environments they are in, individuals of each environment will move until the utility of the system is maximized. In my code I make 4 assumptions as to what each individual is looking for in their environment. First I assume that prey and predators both favor the same type of environment. Second, I assume that all individuals seek the best environment possible to live in. This is important because some environments will be better than others, and therefore more favorable. Third, I assume that both predators and prey seek environments with a large prey to predator ratio. And fourth, I assume that all individuals seek an environment with as small a population as possible. My code will be based off these 4 assumptions. It will produce an inital environments array with random numbers of prey and predators in each environment. Then it will use the 4 assumptions described above to determine how much utility each individual has with their environment. And finally, it will make decisions on how to rearrange the individuals until the utility is maximized.\n",
    "\n",
    "# Base Question\n",
    "\n",
    "How do individuals move in response to the movements of others?\n",
    "\n",
    "# 2 Additional Questions\n",
    "\n",
    "1. How do patterns of movement change when the parameters that determine their movements are changed?\n",
    "\n",
    "2. How long does it typically take for a system of M environments and N individuals to reach equilibrium?\n",
    "\n",
    "# Description of Code\n",
    "\n",
    "My code is divided into 4 parts. First I wrote a function that creates an array with the initial conditions of each environment. It's arguments will be the total number of individuals, the number of environments, and the prey to predator ratio. It then creates an m x 2 array, where m is the number of environments. Each row is a different environment. The left element of each row tells the number of prey in each environment. The right element tells the number of predators in each environment. The array has the individuals randomly distributed amongst the environments.\n",
    "\n",
    "The second part determines the amount of total utility. This function takes the initial environment array produced from part 1, and calculates the amount of utility the system has.\n",
    "\n",
    "Lastly, I wrote a function called Rearrange that takes the initial environments array and, based on the utility of each individual, will move individuals from the worst environment to the best using a while loop. After each change it makes, it will then recalculate the utility of the system. As soon as the change in utility becomes zero, utility has been maximized.\n",
    "\n",
    "The array is visualized using bar graphs, side by side, to show the distribution of individuals into the different environments. There are two graphs: one for how the system started out, and one showing how the system ended.\n",
    "\n",
    "# Equation For Calculating Utility\n",
    "\n",
    "Utility is calculated using 3 separate functions:\n",
    "\n",
    "\\begin{equation*}\n",
    "Individual\\:Utility = Utility(Population, N) + Utility(PPR) + Utility(Environment\\:Rank, M)\n",
    "\\end{equation*}\n",
    "\n",
    "\\begin{align*}\n",
    "Utility(Population, N) &= A - A \\frac{Population}{N} \\\\\n",
    "Utility(PPR) &= B \\frac{2 arctan(\\frac{PPR}{5})}{\\pi} \\\\\n",
    "Utility(Environment\\:Rank, M) &= C - C \\frac {Environment\\:Rank}{M}\n",
    "\\end{align*}\n",
    "\n",
    "These functions are approximations and are meant to reflect general trends that would most likely be observed from the 4 assumptions.\n",
    "\n",
    "A, B, and C are constants determined by the user and represent the maximum utility attainable from each function. The maximum utility any individual can attain from their environment is therefore A + B + C.\n",
    "\n",
    "Total Utility for N individuals is therefore:\n",
    "\n",
    "\\begin{equation*}\n",
    "Total\\:Utility = \\sum_{k=1}^N Individual\\:Utility\n",
    "\\end{equation*}"
   ]
  }
 ],
 "metadata": {
  "kernelspec": {
   "display_name": "Python 2",
   "language": "python",
   "name": "python2"
  },
  "language_info": {
   "codemirror_mode": {
    "name": "ipython",
    "version": 2
   },
   "file_extension": ".py",
   "mimetype": "text/x-python",
   "name": "python",
   "nbconvert_exporter": "python",
   "pygments_lexer": "ipython2",
   "version": "2.7.6"
  }
 },
 "nbformat": 4,
 "nbformat_minor": 0
}
