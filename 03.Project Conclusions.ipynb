{
 "cells": [
  {
   "cell_type": "markdown",
   "metadata": {},
   "source": [
    "# Project Conclusions\n",
    "\n",
    "The base question I set out to answer was how individuals move in response to the movements of others. Based on the data my code produced, I can see that individuals only move when they have better options. Everyone tries to maximize their utility by moving to an environment where they can be happier, and they only stop when all the environments have the same utility.\n",
    "\n",
    "Another question I sought out to answer was what kind of patterns of behaviour there were. Based on my data I observe that individuals move to wherever they can gain the most utility. For example, if all individuals care about is being in the best environment, then they all flock to the best environment because that will yield them the most utility. Alternatively, if all they care about is ensuring that the prey/predator ratio is as high as possible, then the population in each environment tends to flatten out.\n",
    "\n",
    "The last question I asked was how long, or how many movements, it took to reach an equilibrium. Based on the data, I saw that the number of movements required to reach equilibrium was approximately equal to the number of individuals in the system. A system of 1,000 individuals required 1,000 movements to reach equilibrium, a system of 10,000 individuals required 10,000 movements to reach equilibrium, etc. So on average, every individual will move once."
   ]
  }
 ],
 "metadata": {
  "kernelspec": {
   "display_name": "Python 2",
   "language": "python",
   "name": "python2"
  },
  "language_info": {
   "codemirror_mode": {
    "name": "ipython",
    "version": 2
   },
   "file_extension": ".py",
   "mimetype": "text/x-python",
   "name": "python",
   "nbconvert_exporter": "python",
   "pygments_lexer": "ipython2",
   "version": "2.7.6"
  }
 },
 "nbformat": 4,
 "nbformat_minor": 0
}
